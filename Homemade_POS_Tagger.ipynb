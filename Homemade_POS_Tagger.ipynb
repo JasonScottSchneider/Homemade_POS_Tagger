{
 "cells": [
  {
   "cell_type": "markdown",
   "id": "sustained-sequence",
   "metadata": {},
   "source": [
    "## POS Tagger\n",
    "<p>This is a little exercise making a pos tagger because not all pos taggers are alike. The point of making this pos tagger is to try making it from scratch; however, we will need to use <strong>sklearn</strong> to run the algorithm for the classifier.</p>\n",
    "<p>Let's make a function that creates an output of lingusitic features called ... you guessed it, <em>features</em>.</p>"
   ]
  },
  {
   "cell_type": "code",
   "execution_count": 1,
   "id": "lasting-monthly",
   "metadata": {},
   "outputs": [],
   "source": [
    "def features(sentence, index):\n",
    "    \"\"\" sentence: [w1, w2, ...], index: the index of the word \"\"\"\n",
    "    return {\n",
    "        'word': sentence[index],\n",
    "        'is_first': index == 0,\n",
    "        'is_last': index == len(sentence) - 1,\n",
    "        'is_capitalized': sentence[index][0].upper() == sentence[index][0],\n",
    "        'is_all_caps': sentence[index].upper() == sentence[index],\n",
    "        'is_all_lower': sentence[index].lower() == sentence[index],\n",
    "        'prefix-1': sentence[index][0],\n",
    "        'prefix-2': sentence[index][:2],\n",
    "        'prefix-3': sentence[index][:3],\n",
    "        'suffix-1': sentence[index][-1],\n",
    "        'suffix-2': sentence[index][-2:],\n",
    "        'suffix-3': sentence[index][-3:],\n",
    "        'prev_word': '' if index == 0 else sentence[index - 1],\n",
    "        'next_word': '' if index == len(sentence) - 1 else sentence[index + 1],\n",
    "        'has_hyphen': '-' in sentence[index],\n",
    "        'is_numeric': sentence[index].isdigit(),\n",
    "        'capitals_inside': sentence[index][1:].lower() != sentence[index][1:]\n",
    "    }\n"
   ]
  },
  {
   "cell_type": "code",
   "execution_count": 2,
   "id": "disturbed-upper",
   "metadata": {},
   "outputs": [
    {
     "name": "stdout",
     "output_type": "stream",
     "text": [
      "{'word': 'a', 'is_first': False, 'is_last': False, 'is_capitalized': False, 'is_all_caps': False, 'is_all_lower': True, 'prefix-1': 'a', 'prefix-2': 'a', 'prefix-3': 'a', 'suffix-1': 'a', 'suffix-2': 'a', 'suffix-3': 'a', 'prev_word': 'is', 'next_word': 'sentence', 'has_hyphen': False, 'is_numeric': False, 'capitals_inside': False}\n"
     ]
    }
   ],
   "source": [
    "# test it out\n",
    "print(features(['This', 'is', 'a', 'sentence'], 2))"
   ]
  },
  {
   "cell_type": "markdown",
   "id": "gross-input",
   "metadata": {},
   "source": [
    "<p>The point of this is to create a pos tagger without the need of NLTK, but we will do a small cheat and use its corpus for creating a training set; otherwise, we are going to be working on this thing for a long, long time by hand.</p>"
   ]
  },
  {
   "cell_type": "code",
   "execution_count": 3,
   "id": "abstract-browser",
   "metadata": {},
   "outputs": [
    {
     "name": "stdout",
     "output_type": "stream",
     "text": [
      "[('Pierre', 'NNP'), ('Vinken', 'NNP'), (',', ','), ('61', 'CD'), ('years', 'NNS'), ('old', 'JJ'), (',', ','), ('will', 'MD'), ('join', 'VB'), ('the', 'DT'), ('board', 'NN'), ('as', 'IN'), ('a', 'DT'), ('nonexecutive', 'JJ'), ('director', 'NN'), ('Nov.', 'NNP'), ('29', 'CD'), ('.', '.')]\n",
      "Tagged sentences:  3914\n",
      "Tagged words: 100676\n"
     ]
    }
   ],
   "source": [
    "import nltk\n",
    " \n",
    "tagged_sentences = nltk.corpus.treebank.tagged_sents() # let's borrow NLTK's tagged corpus\n",
    " \n",
    "print(tagged_sentences[0]) # just print the first sentence from the corpus\n",
    "print(\"Tagged sentences: \", len(tagged_sentences))\n",
    "print(\"Tagged words:\", len(nltk.corpus.treebank.tagged_words()))\n",
    " \n",
    "# [(u'Pierre', u'NNP'), (u'Vinken', u'NNP'), (u',', u','), (u'61', u'CD'), (u'years', u'NNS'), (u'old', u'JJ'), (u',', u','), (u'will', u'MD'), (u'join', u'VB'), (u'the', u'DT'), (u'board', u'NN'), (u'as', u'IN'), (u'a', u'DT'), (u'nonexecutive', u'JJ'), (u'director', u'NN'), (u'Nov.', u'NNP'), (u'29', u'CD'), (u'.', u'.')]\n",
    "# Tagged sentences:  3914\n",
    "# Tagged words: 100676"
   ]
  },
  {
   "cell_type": "markdown",
   "id": "imported-samoa",
   "metadata": {},
   "source": [
    "<p>We will need to strip the tags from the tagged sentences for the training set from which we originally took from NLTK's corpus, so here is a function made just for that.</p>"
   ]
  },
  {
   "cell_type": "code",
   "execution_count": 4,
   "id": "dutch-teacher",
   "metadata": {},
   "outputs": [],
   "source": [
    "def untag(tagged_sentence):\n",
    "    return [w for w, t in tagged_sentence]"
   ]
  },
  {
   "cell_type": "markdown",
   "id": "ambient-central",
   "metadata": {},
   "source": [
    "<p>Now we must divide up our training set from our testing set prior to any training.</p>"
   ]
  },
  {
   "cell_type": "code",
   "execution_count": 5,
   "id": "seventh-details",
   "metadata": {},
   "outputs": [
    {
     "name": "stdout",
     "output_type": "stream",
     "text": [
      "2935\n",
      "979\n"
     ]
    }
   ],
   "source": [
    "# Split the dataset for training and testing\n",
    "cutoff = int(.75 * len(tagged_sentences))\n",
    "training_sentences = tagged_sentences[:cutoff]\n",
    "test_sentences = tagged_sentences[cutoff:]\n",
    " \n",
    "print(len(training_sentences))   # 2935\n",
    "print(len(test_sentences))         # 979\n",
    " \n",
    "def transform_to_dataset(tagged_sentences):\n",
    "    X, y = [], []\n",
    " \n",
    "    for tagged in tagged_sentences:\n",
    "        for index in range(len(tagged)):\n",
    "            X.append(features(untag(tagged), index))\n",
    "            y.append(tagged[index][1])\n",
    " \n",
    "    return X, y\n",
    " \n",
    "X, y = transform_to_dataset(training_sentences)"
   ]
  },
  {
   "cell_type": "markdown",
   "id": "recognized-helicopter",
   "metadata": {},
   "source": [
    "<p>We will use <strong>sklearn</strong> to train our pos tagger using a <strong>decision tree classifier</strong>."
   ]
  },
  {
   "cell_type": "code",
   "execution_count": 6,
   "id": "constitutional-residence",
   "metadata": {},
   "outputs": [
    {
     "name": "stdout",
     "output_type": "stream",
     "text": [
      "Training completed\n",
      "Accuracy: 0.8966334565322192\n"
     ]
    }
   ],
   "source": [
    "from sklearn.tree import DecisionTreeClassifier\n",
    "from sklearn.feature_extraction import DictVectorizer\n",
    "from sklearn.pipeline import Pipeline\n",
    " \n",
    "clf = Pipeline([\n",
    "    ('vectorizer', DictVectorizer(sparse=False)),\n",
    "    ('classifier', DecisionTreeClassifier(criterion='entropy'))\n",
    "])\n",
    " \n",
    "clf.fit(X[:10000], y[:10000])   # Use only the first 10K samples if you're running it multiple times.\n",
    " \n",
    "print('Training completed')\n",
    " \n",
    "X_test, y_test = transform_to_dataset(test_sentences)\n",
    " \n",
    "print(\"Accuracy:\", clf.score(X_test, y_test))"
   ]
  },
  {
   "cell_type": "markdown",
   "id": "amino-tunnel",
   "metadata": {},
   "source": [
    "<p>We could use NLTK's already built function <strong>word_tokenize</strong>, but I would rather try this from scratch because that is the point of this first of all.</p>"
   ]
  },
  {
   "cell_type": "code",
   "execution_count": 7,
   "id": "hungarian-search",
   "metadata": {},
   "outputs": [],
   "source": [
    "import re # let's use regex\n",
    "def word_tokenize(sentence):\n",
    "    sentence = re.sub(r'[^\\w\\s]','',sentence) # use regex to strip punctuation\n",
    "    sentence = sentence.lower() # drop all to lower case\n",
    "    sentence = sentence.split() # list the words from the input\n",
    "    return sentence"
   ]
  },
  {
   "cell_type": "code",
   "execution_count": 8,
   "id": "usual-syracuse",
   "metadata": {},
   "outputs": [
    {
     "name": "stdout",
     "output_type": "stream",
     "text": [
      "['this', 'is', 'my', 'friend', 'john']\n"
     ]
    }
   ],
   "source": [
    "print(word_tokenize('This is my friend, John.'))"
   ]
  },
  {
   "cell_type": "markdown",
   "id": "tamil-gravity",
   "metadata": {},
   "source": [
    "<p>Let's see how our homemade pos tagger works.</p>"
   ]
  },
  {
   "cell_type": "code",
   "execution_count": 9,
   "id": "dynamic-contributor",
   "metadata": {},
   "outputs": [
    {
     "name": "stdout",
     "output_type": "stream",
     "text": [
      "[('this', 'DT'), ('is', 'VBZ'), ('my', 'NN'), ('friend', 'NN'), ('john', 'NN')]\n"
     ]
    }
   ],
   "source": [
    "def pos_tag(sentence):\n",
    "    tags = clf.predict([features(sentence, index) for index in range(len(sentence))])\n",
    "    return zip(sentence, tags)\n",
    " \n",
    "print(list(pos_tag(word_tokenize('This is my friend, John.'))))"
   ]
  }
 ],
 "metadata": {
  "kernelspec": {
   "display_name": "Python 3",
   "language": "python",
   "name": "python3"
  },
  "language_info": {
   "codemirror_mode": {
    "name": "ipython",
    "version": 3
   },
   "file_extension": ".py",
   "mimetype": "text/x-python",
   "name": "python",
   "nbconvert_exporter": "python",
   "pygments_lexer": "ipython3",
   "version": "3.9.2"
  }
 },
 "nbformat": 4,
 "nbformat_minor": 5
}
